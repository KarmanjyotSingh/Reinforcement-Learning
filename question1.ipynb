{
 "cells": [
  {
   "attachments": {},
   "cell_type": "markdown",
   "metadata": {},
   "source": [
    "### OpenAI CliffWalking-v0 (Value Iteration and Policy Iteration)\n",
    "\n",
    "This "
   ]
  },
  {
   "attachments": {},
   "cell_type": "markdown",
   "metadata": {},
   "source": [
    "#### Importing Helper Libraries "
   ]
  },
  {
   "cell_type": "code",
   "execution_count": 11,
   "metadata": {},
   "outputs": [],
   "source": [
    "# import gymnasium \n",
    "# it generates openAI environment for RL Agent\n",
    "import gymnasium as gym\n",
    "import matplotlib.pyplot as plt\n",
    "from IPython import display\n",
    "%matplotlib inline"
   ]
  },
  {
   "cell_type": "code",
   "execution_count": 18,
   "metadata": {},
   "outputs": [],
   "source": [
    "environment = 'CliffWalking-v0'\n",
    "renderMode = 'rgb_array'\n",
    "# action mapping \n",
    "actions = {0:'UP', 1:'RIGHT', 2:'DOWN', 3:'LEFT'}"
   ]
  },
  {
   "attachments": {},
   "cell_type": "markdown",
   "metadata": {},
   "source": [
    "##### Agent\n",
    "\n",
    "A generalised agent class that acts as parent class to the multiple agent classes, that act and behave differently in the environment."
   ]
  },
  {
   "cell_type": "code",
   "execution_count": null,
   "metadata": {},
   "outputs": [],
   "source": [
    "class Agent:\n",
    "\n",
    "    def __init__(self) -> None:\n",
    "        # this initialises the environment\n",
    "        self.env = gym.make(environment,\n",
    "                            render_mode = renderMode)\n",
    "        self.env.reset()\n",
    "    "
   ]
  },
  {
   "attachments": {},
   "cell_type": "markdown",
   "metadata": {},
   "source": [
    "##### Confused Agent\n",
    "\n",
    "This agent is made such that, it selects the actions from the given action space, randomly."
   ]
  },
  {
   "cell_type": "code",
   "execution_count": null,
   "metadata": {},
   "outputs": [],
   "source": [
    "class ConfusedAgent(Agent):\n",
    "    # This agent picks up random actions \n",
    "    # Based on the action space \n",
    "    def __init__(self) -> None:\n",
    "        super().__init__()\n",
    "        self.iterations = 2000\n",
    "\n",
    "    def policy(self,env):\n",
    "        # select a random action from given action space\n",
    "        action = env.action_space.sample()\n",
    "        return action\n",
    "    \n",
    "    def act(self):\n",
    "        \n",
    "        self.env = gym.make(environment,render_mode = renderMode)\n",
    "        observation, info = self.env.reset()\n",
    "\n",
    "        for _ in range(self.iterations):\n",
    "            action = self.policy(self.env)\n",
    "            observation, reward, terminated, truncated,info = self.env.step(action)\n",
    "\n",
    "            if terminated:\n",
    "                observation, info  = self.env.reset()\n",
    "        self.env.close()    \n"
   ]
  },
  {
   "attachments": {},
   "cell_type": "markdown",
   "metadata": {},
   "source": [
    "##### Policy Iteration"
   ]
  },
  {
   "cell_type": "code",
   "execution_count": null,
   "metadata": {},
   "outputs": [],
   "source": [
    "class PolicyIterationAgent(Agent):\n",
    "    pass\n",
    "\n",
    "    def PolicyEvaluation():\n",
    "        pass \n",
    "\n",
    "    def PolicyImprovement()->bool:\n",
    "        pass \n",
    "\n",
    "    def Run(self):\n",
    "\n",
    "        while True: \n",
    "            # run Policy Evaluation\n",
    "            \n",
    "            ValueConverged = False         \n",
    "            while not ValueConverged:\n",
    "                ValueConverged = self.PolicyEvaluation()\n",
    "            \n",
    "            \n",
    "\n",
    "            stop = self.PolicyImprovement() "
   ]
  },
  {
   "attachments": {},
   "cell_type": "markdown",
   "metadata": {},
   "source": [
    "##### Value Iteration"
   ]
  }
 ],
 "metadata": {
  "kernelspec": {
   "display_name": "Python 3",
   "language": "python",
   "name": "python3"
  },
  "language_info": {
   "codemirror_mode": {
    "name": "ipython",
    "version": 3
   },
   "file_extension": ".py",
   "mimetype": "text/x-python",
   "name": "python",
   "nbconvert_exporter": "python",
   "pygments_lexer": "ipython3",
   "version": "3.8.10"
  },
  "orig_nbformat": 4
 },
 "nbformat": 4,
 "nbformat_minor": 2
}
